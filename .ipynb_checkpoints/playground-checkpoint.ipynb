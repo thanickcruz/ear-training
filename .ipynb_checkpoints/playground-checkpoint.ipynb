{
 "cells": [
  {
   "cell_type": "code",
   "execution_count": 2,
   "id": "19e8aa9b-f9d8-4272-9f04-7de750074c23",
   "metadata": {},
   "outputs": [],
   "source": [
    "import requests"
   ]
  },
  {
   "cell_type": "code",
   "execution_count": 6,
   "id": "6a21e669-4a55-44b1-9052-e8b5168c8b1d",
   "metadata": {},
   "outputs": [
    {
     "name": "stdout",
     "output_type": "stream",
     "text": [
      "<tr class=\"table_object\"><td class=\"table_play\"><span id=\"rank\" style=\"font-weight:bold\">1</span><button aria-hidden=\"true\" class=\"harmonic_play with_rank\" id=\"08gaUXuT1LXIae7TwBTCB9\" onclick=\"playerBar(this.id)\"><svg height=\"24px\" id=\"play_btn\" style=\"enable-background:new 0 0 485 485;\" version=\"1.1\" viewbox=\"0 0 485 485\" width=\"24px\" xml:space=\"preserve\" xmlns=\"http://www.w3.org/2000/svg\" xmlns:xlink=\"http://www.w3.org/1999/xlink\"><g><path d=\"M413.974,71.026C368.171,25.225,307.274,0,242.5,0S116.829,25.225,71.026,71.026C25.225,116.829,0,177.726,0,242.5 s25.225,125.671,71.026,171.474C116.829,459.775,177.726,485,242.5,485s125.671-25.225,171.474-71.026   C459.775,368.171,485,307.274,485,242.5S459.775,116.829,413.974,71.026z M242.5,455C125.327,455,30,359.673,30,242.5 S125.327,30,242.5,30S455,125.327,455,242.5S359.673,455,242.5,455z\"></path><polygon points=\"181.062,336.575 343.938,242.5 181.062,148.425  \"></polygon></g></svg></button></td><td class=\"table_img\"><a href=\"/track/08gaUXuT1LXIae7TwBTCB9/DESTROYA-by-My-Chemical-Romance\"><img alt=\"DESTROYA by My Chemical Romance\" class=\"lazyload\" data-src=\"https://i.scdn.co/image/ab67616d00001e026fbf4bb780a9cbc34b3f35da\" height=\"60px\" width=\"60px\"/></a></td><td class=\"table_name\"><a href=\"/track/08gaUXuT1LXIae7TwBTCB9/DESTROYA-by-My-Chemical-Romance\">DESTROYA</a></td><td class=\"table_artist\">My Chemical Romance</td><td class=\"table_data\">4:32</td><td class=\"table_key\">A Major</td><td class=\"table_camelot\">11B</td><td class=\"table_bpm\">100</td><td class=\"table_data\">0.00408</td><td class=\"table_data\">0.5</td><td class=\"table_energy\">10</td><td class=\"table_data\">0.593</td><td class=\"table_data\">0.204</td><td class=\"table_data\">-5.128</td><td class=\"table_data\">0.103</td><td class=\"table_data\">0.199</td><td class=\"table_data\">57</td><td class=\"table_data\">2010-11-05</td><td class=\"table_link\" data-src=\"08gaUXuT1LXIae7TwBTCB9\" id=\"spotify_obj\">\n",
      "<a href=\"#\" id=\"08gaUXuT1LXIae7TwBTCB9_spotify_link\" style=\"padding:15px;pointer-events: none;text-decoration: none;user-select: none;\">\n",
      "<svg height=\"35px\" viewbox=\"0 0 24 24\" width=\"35px\" xmlns=\"http://www.w3.org/2000/svg\">\n",
      "<path d=\"M19.0983701,10.6382791 C15.230178,8.34118115 8.85003755,8.12986439 5.15729493,9.25058527 C4.56433588,9.43062856 3.93727638,9.09580812 3.75758647,8.50284907 C3.57789655,7.90953664 3.91236362,7.28283051 4.50585273,7.10261054 C8.74455585,5.81598127 15.7909802,6.06440214 20.2440037,8.70780512 C20.7774195,9.02442687 20.9525156,9.71332656 20.6362472,10.2456822 C20.3198021,10.779098 19.6305491,10.9549008 19.0983701,10.6382791 M18.971686,14.0407262 C18.7004726,14.4810283 18.1246521,14.6190203 17.6848801,14.3486903 C14.4600027,12.3664473 9.54264764,11.792217 5.72728477,12.9503953 C5.23256328,13.0998719 4.70992535,12.8208843 4.55974204,12.3270462 C4.41061884,11.8323247 4.68978312,11.3107469 5.18362118,11.1602103 C9.5419409,9.83771368 14.9600247,10.4782013 18.6638986,12.7544503 C19.1036707,13.0253103 19.242016,13.6013075 18.971686,14.0407262 M17.5034233,17.308185 C17.2876894,17.6617342 16.827245,17.7725165 16.4749326,17.5571359 C13.6571403,15.8347984 10.1101639,15.4459119 5.93312425,16.4000177 C5.53063298,16.4922479 5.12937851,16.2399399 5.03767834,15.8376253 C4.94544812,15.4351341 5.19669597,15.0338796 5.60024736,14.9420027 C10.1712973,13.8970803 14.0923186,14.3467468 17.2551791,16.2796943 C17.6078449,16.4948982 17.7189805,16.9556959 17.5034233,17.308185 M12,0 C5.37267547,0 0,5.37249879 0,11.9998233 C0,18.6278546 5.37267547,24 12,24 C18.6275012,24 24,18.6278546 24,11.9998233 C24,5.37249879 18.6275012,0 12,0\" fill=\"#d4d7d7\" fill-rule=\"evenodd\" id=\"08gaUXuT1LXIae7TwBTCB9_spotify_path\"></path>\n",
      "</svg>\n",
      "</a></td><td class=\"table_link\" data-src=\"08gaUXuT1LXIae7TwBTCB9\" id=\"amazon_obj\">\n",
      "<a href=\"#\" id=\"08gaUXuT1LXIae7TwBTCB9_amazon_music_link\" style=\"padding:15px;pointer-events: none;text-decoration: none;user-select: none;\">\n",
      "<svg height=\"35px\" viewbox=\"2.167 .438 251.038 259.969\" width=\"35px\" xmlns=\"http://www.w3.org/2000/svg\"><g fill=\"none\" fill-rule=\"evenodd\">\n",
      "<path d=\"m221.503 210.324c-105.235 50.083-170.545 8.18-212.352-17.271-2.587-1.604-6.984.375-3.169 4.757 13.928 16.888 59.573 57.593 119.153 57.593 59.621 0 95.09-32.532 99.527-38.207 4.407-5.627 1.294-8.731-3.16-6.872zm29.555-16.322c-2.826-3.68-17.184-4.366-26.22-3.256-9.05 1.078-22.634 6.609-21.453 9.93.606 1.244 1.843.686 8.06.127 6.234-.622 23.698-2.826 27.337 1.931 3.656 4.79-5.57 27.608-7.255 31.288-1.628 3.68.622 4.629 3.68 2.178 3.016-2.45 8.476-8.795 12.14-17.774 3.639-9.028 5.858-21.622 3.71-24.424z\" fill=\"#000\" fill-rule=\"nonzero\" id=\"08gaUXuT1LXIae7TwBTCB9_amazon_music_path\" style=\"fill:#d4d7d7\"></path>\n",
      "<path d=\"m150.744 108.13c0 13.141.332 24.1-6.31 35.77-5.361 9.489-13.853 15.324-23.341 15.324-12.952 0-20.495-9.868-20.495-24.432 0-28.75 25.76-33.968 50.146-33.968zm34.015 82.216c-2.23 1.992-5.456 2.135-7.97.806-11.196-9.298-13.189-13.615-19.356-22.487-18.502 18.882-31.596 24.527-55.601 24.527-28.37 0-50.478-17.506-50.478-52.565 0-27.373 14.85-46.018 35.96-55.126 18.313-8.066 43.884-9.489 63.43-11.718v-4.365c0-8.018.616-17.506-4.08-24.432-4.128-6.215-12.003-8.777-18.93-8.777-12.856 0-24.337 6.594-27.136 20.257-.57 3.037-2.799 6.026-5.835 6.168l-32.735-3.51c-2.751-.618-5.787-2.847-5.028-7.07 7.543-39.66 43.36-51.616 75.43-51.616 16.415 0 37.858 4.365 50.81 16.795 16.415 15.323 14.849 35.77 14.849 58.02v52.565c0 15.798 6.547 22.724 12.714 31.264 2.182 3.036 2.657 6.69-.095 8.966-6.879 5.74-19.119 16.415-25.855 22.393l-.095-.095\" fill=\"#000\" id=\"08gaUXuT1LXIae7TwBTCB9_amazon_music_path_2\" style=\"fill:#d4d7d7\"></path>\n",
      "<path d=\"m221.503 210.324c-105.235 50.083-170.545 8.18-212.352-17.271-2.587-1.604-6.984.375-3.169 4.757 13.928 16.888 59.573 57.593 119.153 57.593 59.621 0 95.09-32.532 99.527-38.207 4.407-5.627 1.294-8.731-3.16-6.872zm29.555-16.322c-2.826-3.68-17.184-4.366-26.22-3.256-9.05 1.078-22.634 6.609-21.453 9.93.606 1.244 1.843.686 8.06.127 6.234-.622 23.698-2.826 27.337 1.931 3.656 4.79-5.57 27.608-7.255 31.288-1.628 3.68.622 4.629 3.68 2.178 3.016-2.45 8.476-8.795 12.14-17.774 3.639-9.028 5.858-21.622 3.71-24.424z\" fill=\"#000\" fill-rule=\"nonzero\" id=\"08gaUXuT1LXIae7TwBTCB9_amazon_music_path_3\" style=\"fill:#d4d7d7\"></path>\n",
      "<path d=\"m150.744 108.13c0 13.141.332 24.1-6.31 35.77-5.361 9.489-13.853 15.324-23.341 15.324-12.952 0-20.495-9.868-20.495-24.432 0-28.75 25.76-33.968 50.146-33.968zm34.015 82.216c-2.23 1.992-5.456 2.135-7.97.806-11.196-9.298-13.189-13.615-19.356-22.487-18.502 18.882-31.596 24.527-55.601 24.527-28.37 0-50.478-17.506-50.478-52.565 0-27.373 14.85-46.018 35.96-55.126 18.313-8.066 43.884-9.489 63.43-11.718v-4.365c0-8.018.616-17.506-4.08-24.432-4.128-6.215-12.003-8.777-18.93-8.777-12.856 0-24.337 6.594-27.136 20.257-.57 3.037-2.799 6.026-5.835 6.168l-32.735-3.51c-2.751-.618-5.787-2.847-5.028-7.07 7.543-39.66 43.36-51.616 75.43-51.616 16.415 0 37.858 4.365 50.81 16.795 16.415 15.323 14.849 35.77 14.849 58.02v52.565c0 15.798 6.547 22.724 12.714 31.264 2.182 3.036 2.657 6.69-.095 8.966-6.879 5.74-19.119 16.415-25.855 22.393l-.095-.095\" fill=\"#000\" id=\"08gaUXuT1LXIae7TwBTCB9_amazon_music_path_4\" style=\"fill:#d4d7d7\"></path></g>\n",
      "</svg>\n",
      "</a></td><td class=\"table_link\" data-src=\"08gaUXuT1LXIae7TwBTCB9\" id=\"youtube_obj\">\n",
      "<a href=\"#\" id=\"08gaUXuT1LXIae7TwBTCB9_youtube_link\" style=\"padding:15px;pointer-events: none;text-decoration: none;user-select: none;\">\n",
      "<svg height=\"35px\" id=\"youtube\" style=\"enable-background:new 0 0 461.001 461.001;\" version=\"1.1\" viewbox=\"0 0 461.001 461.001\" width=\"35px\" x=\"0px\" xml:space=\"preserve\" xmlns=\"http://www.w3.org/2000/svg\" xmlns:xlink=\"http://www.w3.org/1999/xlink\" y=\"0px\">\n",
      "<path d=\"M365.257,67.393H95.744C42.866,67.393,0,110.259,0,163.137v134.728   c0,52.878,42.866,95.744,95.744,95.744h269.513c52.878,0,95.744-42.866,95.744-95.744V163.137   C461.001,110.259,418.135,67.393,365.257,67.393z M300.506,237.056l-126.06,60.123c-3.359,1.602-7.239-0.847-7.239-4.568V168.607   c0-3.774,3.982-6.22,7.348-4.514l126.06,63.881C304.363,229.873,304.298,235.248,300.506,237.056z\" id=\"08gaUXuT1LXIae7TwBTCB9_youtube_path\" style=\"fill:#d4d7d7;\"></path>\n",
      "</svg>\n",
      "</a></td><td class=\"table_link\" data-src=\"08gaUXuT1LXIae7TwBTCB9\" id=\"tidal_obj\">\n",
      "<a href=\"#\" id=\"08gaUXuT1LXIae7TwBTCB9_tidal_link\" style=\"padding:15px;pointer-events: none;text-decoration: none;user-select: none;\">\n",
      "<svg height=\"35px\" style=\"fill-rule:evenodd;clip-rule:evenodd;stroke-linejoin:round;stroke-miterlimit:2;\" viewbox=\"0 0 200 200\" width=\"35px\" xmlns=\"http://www.w3.org/2000/svg\"><path d=\"M100,200c55.228,0 100,-44.772 100,-100c0,-55.228 -44.772,-100 -100,-100c-55.228,0 -100,44.772 -100,100c0,55.228 44.772,100 100,100Zm11.993,-77.935c-3.867,-3.86 -7.722,-7.732 -11.576,-11.605l-0.278,-0.124c-4.354,4.374 -8.721,8.735 -13.083,13.091c-2.18,2.176 -4.359,4.351 -6.534,6.526l-0.186,0.434c3.382,3.334 6.728,6.687 10.078,10.043c1.095,1.097 2.191,2.195 3.289,3.293c0.916,0.877 1.811,1.787 2.706,2.697c1.252,1.273 2.506,2.548 3.823,3.738c0.946,-0.834 1.858,-1.769 2.771,-2.704c0.61,-0.625 1.219,-1.249 1.839,-1.844c2.394,-2.379 4.789,-4.774 7.184,-7.169c2.371,-2.37 4.741,-4.74 7.111,-7.095c0.118,-0.14 0.251,-0.265 0.384,-0.389c0.249,-0.233 0.496,-0.464 0.637,-0.787l-0.05,-0.05l0.016,-0.016l-8.131,-8.039Zm-52.19,-52.065l0.247,0c1.208,1.386 2.517,2.67 3.829,3.958l2.205,2.2l13.676,13.676l0,0.248c-3.299,3.284 -6.591,6.583 -9.883,9.883c-3.314,3.322 -6.628,6.644 -9.95,9.95c-3.327,-3.31 -6.645,-6.629 -9.964,-9.947c-3.318,-3.319 -6.637,-6.638 -9.963,-9.948c0.232,-0.443 0.607,-0.785 0.979,-1.124l0.506,-0.486c2.439,-2.462 4.892,-4.911 7.344,-7.358l0,-0c3.678,-3.671 7.354,-7.339 10.974,-11.052Zm60.155,19.578c1.922,-1.875 3.816,-3.78 5.71,-5.684c1.327,-1.334 2.654,-2.668 3.99,-3.992l3.53,-3.524c2.122,-2.106 4.241,-4.21 6.309,-6.378l0.248,0c0.788,0.945 1.663,1.803 2.538,2.66l16.492,16.493c0.07,0.079 0.152,0.155 0.236,0.233c0.214,0.198 0.44,0.407 0.506,0.696c-3.249,3.158 -6.446,6.375 -9.646,9.593l-0,0c-3.414,3.434 -6.83,6.87 -10.311,10.24l-19.03,-19.029l-0.585,-0.574l-0.467,0.45c-3.186,3.171 -6.364,6.349 -9.543,9.527l-0.001,0.001c-3.211,3.211 -6.422,6.422 -9.64,9.625c-2.971,-2.929 -5.917,-5.882 -8.863,-8.836c-3.682,-3.692 -7.365,-7.384 -11.095,-11.029c3.429,-3.576 6.954,-7.083 10.477,-10.59c3.153,-3.137 6.305,-6.275 9.388,-9.46l0.247,0c0.187,0.279 0.372,0.526 0.619,0.774c2.564,2.539 5.113,5.092 7.662,7.647c3.725,3.732 7.451,7.465 11.229,11.157Z\" id=\"08gaUXuT1LXIae7TwBTCB9_tidal_path\" style=\"fill:#d4d7d7;\"></path></svg>\n",
      "</a></td><td class=\"table_link\" data-src=\"08gaUXuT1LXIae7TwBTCB9\" id=\"pandora_obj\">\n",
      "<a href=\"#\" id=\"08gaUXuT1LXIae7TwBTCB9_pandora_link\" style=\"padding:15px;pointer-events: none;text-decoration: none;user-select: none;\">\n",
      "<svg height=\"35px\" id=\"youtube\" style=\"enable-background:new 0 0 461.001 461.001;\" version=\"1.1\" viewbox=\"0 0 16 16\" width=\"35px\" x=\"0px\" xml:space=\"preserve\" xmlns=\"http://www.w3.org/2000/svg\" xmlns:xlink=\"http://www.w3.org/1999/xlink\" y=\"0px\">\n",
      "<path d=\"M14.972 5.412C14.682 2.377 11.955 0 8.763 0H.999v16h4c.551 0 1-.448 1-1v-3h3a6.01 6.01 0 0 0 4.44-1.965 5.951 5.951 0 0 0 1.533-4.623z\" fill=\"#d4d7d7\" id=\"08gaUXuT1LXIae7TwBTCB9_pandora_path\"></path>\n",
      "</svg>\n",
      "</a></td></tr>\n"
     ]
    }
   ],
   "source": [
    "import requests\n",
    "from bs4 import BeautifulSoup\n",
    "\n",
    "# URL for the GET request\n",
    "url = \"https://songdata.io/playlist/03Dp7lFlSzEuwnBYvX3eaM\"\n",
    "\n",
    "try:\n",
    "    # Sending GET request\n",
    "    response = requests.get(url)\n",
    "    \n",
    "    # Check if the request was successful\n",
    "    if response.status_code == 200:\n",
    "        # Parse and display the response data\n",
    "        html = response.text \n",
    "\n",
    "        # Parse the HTML\n",
    "        soup = BeautifulSoup(html, \"html.parser\")\n",
    "    \n",
    "        # Find the tbody element\n",
    "        tbody = soup.find(\"tbody\", id=\"table_body\")\n",
    "    \n",
    "        # Extract all rows (<tr>) in the tbody\n",
    "        rows = tbody.find_all(\"tr\", class_=\"table_object\")\n",
    "    \n",
    "        # Extract the class attribute of each row\n",
    "        class_list = [row['class'] for row in rows]\n",
    "    \n",
    "        # Print the list of class attributes\n",
    "        print(class_list)\n",
    "    \n",
    "    else:\n",
    "        print(f\"Failed to retrieve data. HTTP Status Code: {response.status_code}\")\n",
    "except Exception as e:\n",
    "    print(f\"An error occurred: {e}\")\n"
   ]
  },
  {
   "cell_type": "code",
   "execution_count": null,
   "id": "56cad02a-f7a1-40d8-bb02-e67e71d88a8c",
   "metadata": {},
   "outputs": [],
   "source": [
    "from bs4 import BeautifulSoup\n",
    "\n",
    "# Example HTML snippet\n",
    "html = \"\"\"\n",
    "<tbody id=\"table_body\">\n",
    "    <tr class=\"table_object\" role=\"row\"><td>Row 1, Col 1</td><td>Row 1, Col 2</td></tr>\n",
    "    <tr class=\"table_object\" role=\"row\"><td>Row 2, Col 1</td><td>Row 2, Col 2</td></tr>\n",
    "    <tr class=\"table_object\" role=\"row\"><td>Row 3, Col 1</td><td>Row 3, Col 2</td></tr>\n",
    "</tbody>\n",
    "\"\"\"\n",
    "\n",
    "# Parse the HTML\n",
    "soup = BeautifulSoup(html, \"html.parser\")\n",
    "\n",
    "# Find the tbody element\n",
    "tbody = soup.find(\"tbody\", id=\"table_body\")\n",
    "\n",
    "# Extract all rows (<tr>) in the tbody\n",
    "rows = tbody.find_all(\"tr\", class_=\"table_object\")\n",
    "\n",
    "# Create a list of lists with the content of each <tr>\n",
    "result = []\n",
    "for row in rows:\n",
    "    # Extract all <td> elements within the row\n",
    "    cells = [cell.get_text(strip=True) for cell in row.find_all(\"td\")]\n",
    "    result.append(cells)\n",
    "\n",
    "# Print the list of row contents\n",
    "print(result)\n"
   ]
  }
 ],
 "metadata": {
  "kernelspec": {
   "display_name": "Python 3 (ipykernel)",
   "language": "python",
   "name": "python3"
  },
  "language_info": {
   "codemirror_mode": {
    "name": "ipython",
    "version": 3
   },
   "file_extension": ".py",
   "mimetype": "text/x-python",
   "name": "python",
   "nbconvert_exporter": "python",
   "pygments_lexer": "ipython3",
   "version": "3.9.6"
  }
 },
 "nbformat": 4,
 "nbformat_minor": 5
}
