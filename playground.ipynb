{
 "cells": [
  {
   "cell_type": "code",
   "execution_count": 1,
   "id": "19e8aa9b-f9d8-4272-9f04-7de750074c23",
   "metadata": {},
   "outputs": [
    {
     "name": "stderr",
     "output_type": "stream",
     "text": [
      "/Users/nick/Library/Python/3.9/lib/python/site-packages/urllib3/__init__.py:35: NotOpenSSLWarning: urllib3 v2 only supports OpenSSL 1.1.1+, currently the 'ssl' module is compiled with 'LibreSSL 2.8.3'. See: https://github.com/urllib3/urllib3/issues/3020\n",
      "  warnings.warn(\n"
     ]
    }
   ],
   "source": [
    "import requests"
   ]
  },
  {
   "cell_type": "code",
   "execution_count": 54,
   "id": "6a21e669-4a55-44b1-9052-e8b5168c8b1d",
   "metadata": {},
   "outputs": [],
   "source": [
    "import requests\n",
    "from bs4 import BeautifulSoup\n",
    "\n",
    "# URL for the GET request\n",
    "url = \"https://songdata.io/playlist/03Dp7lFlSzEuwnBYvX3eaM\"\n",
    "\n",
    "try:\n",
    "    # Sending GET request\n",
    "    response = requests.get(url)\n",
    "    \n",
    "    # Check if the request was successful\n",
    "    if response.status_code == 200:\n",
    "        # Parse and display the response data\n",
    "        html = response.text \n",
    "\n",
    "        # Parse the HTML\n",
    "        soup = BeautifulSoup(html, \"html.parser\")\n",
    "    \n",
    "        # Find the tbody element\n",
    "        tbody = soup.find(\"tbody\", id=\"table_body\")\n",
    "    \n",
    "        # Extract track metadata\n",
    "        track_info_raw = tbody.find_all(\"td\", class_=\"table_name\")\n",
    "        track_info = [tag.find(\"a\")['href'] for tag in track_info_raw]\n",
    "\n",
    "        # get track id\n",
    "        track_ids = [link.split('/')[2] for link in track_info]\n",
    "\n",
    "        # key info\n",
    "        key_info_raw = tbody.find_all(\"td\", class_=\"table_key\")\n",
    "        key_info = [tag.text for tag in key_info_raw]\n",
    "    \n",
    "        # Print the list of class attributes\n",
    "        \n",
    "        result = dict(zip(track_ids, key_info))\n",
    "            \n",
    "    \n",
    "    else:\n",
    "        print(f\"Failed to retrieve data. HTTP Status Code: {response.status_code}\")\n",
    "except Exception as e:\n",
    "    print(f\"An error occurred: {e}\")\n"
   ]
  },
  {
   "cell_type": "code",
   "execution_count": null,
   "id": "56cad02a-f7a1-40d8-bb02-e67e71d88a8c",
   "metadata": {},
   "outputs": [],
   "source": [
    "result\n"
   ]
  },
  {
   "cell_type": "code",
   "execution_count": 23,
   "id": "2b0208f6-851c-4ee1-877b-c6788b59ed21",
   "metadata": {},
   "outputs": [
    {
     "name": "stdout",
     "output_type": "stream",
     "text": [
      "No key signature found.\n"
     ]
    }
   ],
   "source": [
    "import requests\n",
    "from bs4 import BeautifulSoup\n",
    "import re\n",
    "\n",
    "# URL for the GET request\n",
    "url = \"https://songdata.io/track/09DR0sHnQUhHOiSNttc1mv\"\n",
    "\n",
    "# Regular expression pattern to match key signatures like \"Ab Minor\", \"D Major\", etc.\n",
    "key_signature_pattern = r'\\b([A-Ga-g])(#|b)?\\s?(Major|Minor)\\b'\n",
    "\n",
    "try:\n",
    "    # Sending GET request\n",
    "    response = requests.get(url)\n",
    "    \n",
    "    # Check if the request was successful\n",
    "    if response.status_code == 200:\n",
    "        # Parse the response HTML\n",
    "        soup = BeautifulSoup(response.text, 'html.parser')\n",
    "        \n",
    "        # Find all elements with the class 'card grid my-1 py-1'\n",
    "        card_elements = soup.find_all(class_='card grid my-1 py-1')\n",
    "        \n",
    "        # Iterate through each element and search for key signatures\n",
    "        for card in card_elements:\n",
    "            # Search for key signature in the text of each card element\n",
    "            match = re.search(key_signature_pattern, card.get_text())\n",
    "            if match:\n",
    "                note = match.group(1)\n",
    "                accidental = match.group(2) or ''\n",
    "                scale_type = match.group(3)\n",
    "                \n",
    "                # Format the key signature\n",
    "                key_signature = f\"{note}{accidental.lower()}{'m' if scale_type == 'Minor' else ''}\"\n",
    "                \n",
    "                print(key_signature)\n",
    "        else:\n",
    "            print(\"No key signature found.\")\n",
    "    \n",
    "    else:\n",
    "        print(f\"Failed to retrieve data. HTTP Status Code: {response.status_code}\")\n",
    "except Exception as e:\n",
    "    print(f\"An error occurred: {e}\")\n"
   ]
  },
  {
   "cell_type": "code",
   "execution_count": 24,
   "id": "8f493ab3-e165-42ca-acc1-4115704e8f15",
   "metadata": {},
   "outputs": [
    {
     "name": "stdout",
     "output_type": "stream",
     "text": [
      "[<dl class=\"card grid my-1 py-1\" style=\"background-color:#f3f6f6\">\n",
      "<div class=\"py-1\" style=\"width:100%;border-width:0;border-bottom-width:1px;border-color:#e3e3e3;border-style:solid\">\n",
      "<dt style=\"color:var(--dark-gray);font-size:1.25rem\">BPM</dt>\n",
      "<dd style=\"font-size:1.5rem;font-weight:600;margin:0\">127</dd>\n",
      "</div>\n",
      "<div class=\"py-1\" style=\"width:100%;border-width:0;border-bottom-width:1px;border-color:#e3e3e3;border-style:solid\">\n",
      "<dt style=\"color:var(--dark-gray);font-size:1.25rem\">Key</dt>\n",
      "<dd style=\"font-size:1.5rem;font-weight:600;margin:0\">D♭ Major</dd>\n",
      "</div>\n",
      "<div class=\"py-1\" style=\"width:100%\">\n",
      "<dt style=\"color:var(--dark-gray);font-size:1.25rem\">Camelot</dt>\n",
      "<dd style=\"font-size:1.5rem;font-weight:600;margin:0\">3B</dd>\n",
      "</div>\n",
      "</dl>]\n"
     ]
    }
   ],
   "source": [
    "print(card_elements)"
   ]
  },
  {
   "cell_type": "code",
   "execution_count": 20,
   "id": "0d6de599-3fd7-4150-be5b-074890372cd2",
   "metadata": {},
   "outputs": [],
   "source": [
    "def get_track_key(track_id):\n",
    "    \"\"\"\n",
    "    Takes in track_id and returns key in same format as sample WAV files.\n",
    "    \"\"\"\n",
    "    url=f'https://songdata.io/track/{track_id}'\n",
    "    \n",
    "    # Regular expression pattern to match key signatures like \"Ab Minor\", \"D Major\", etc.\n",
    "    key_signature_pattern = r'\\b([A-Ga-g])(#|b)?\\s?(Major|Minor)\\b'\n",
    "\n",
    "    try:\n",
    "    # Sending GET request\n",
    "        response = requests.get(url)\n",
    "    \n",
    "        # Check if the request was successful\n",
    "        if response.status_code == 200:\n",
    "            # Parse the response HTML\n",
    "            soup = BeautifulSoup(response.text, 'html.parser')\n",
    "        \n",
    "            # Find all elements with the class 'card grid my-1 py-1'\n",
    "            card_elements = soup.find_all(class_='card grid my-1 py-1')\n",
    "        \n",
    "            # Iterate through each element and search for key signatures\n",
    "        for card in card_elements:\n",
    "            # Search for key signature in the text of each card element\n",
    "            match = re.search(key_signature_pattern, card.get_text())\n",
    "            if match:\n",
    "                note = match.group(1)\n",
    "                accidental = match.group(2) or ''\n",
    "                scale_type = match.group(3)\n",
    "                \n",
    "                # Format the key signature\n",
    "                key_signature = f\"{note}{accidental.lower()}{'m' if scale_type == 'Minor' else ''}\"\n",
    "                    \n",
    "                return key_signature\n",
    "            else:\n",
    "                print(\"No key signature found.\")\n",
    "        \n",
    "        else:\n",
    "            print(f\"Failed to retrieve data. HTTP Status Code: {response.status_code}\")\n",
    "    except Exception as e:\n",
    "        print(f\"An error occurred: {e}\")\n",
    "        \n",
    "    "
   ]
  },
  {
   "cell_type": "code",
   "execution_count": 21,
   "id": "54be3df6-60e6-49c5-8809-2204557ddf00",
   "metadata": {},
   "outputs": [
    {
     "data": {
      "text/plain": [
       "'Am'"
      ]
     },
     "execution_count": 21,
     "metadata": {},
     "output_type": "execute_result"
    }
   ],
   "source": [
    "get_track_key('14uvyd51Ha7FihKHlOtUig')"
   ]
  },
  {
   "cell_type": "code",
   "execution_count": 25,
   "id": "12bbe5cb-1ed4-4c20-9fea-673bdbadb9e4",
   "metadata": {},
   "outputs": [],
   "source": [
    "# HELPER FUNCTION\n",
    "def get_track_key(track_id):\n",
    "    \"\"\"\n",
    "    Takes in track_id and returns key in same format as sample WAV files.\n",
    "    \"\"\"\n",
    "    url=f'https://songdata.io/track/{track_id}'\n",
    "    \n",
    "    # Regular expression pattern to match key signatures like \"Ab Minor\", \"D Major\", etc.\n",
    "    key_signature_pattern = r'\\b([A-Ga-g])(#|b|♯|♭)?\\s?(Major|Minor)\\b'\n",
    "\n",
    "    try:\n",
    "    # Sending GET request\n",
    "        response = requests.get(url)\n",
    "    \n",
    "        # Check if the request was successful\n",
    "        if response.status_code == 200:\n",
    "            # Parse the response HTML\n",
    "            soup = BeautifulSoup(response.text, 'html.parser')\n",
    "        \n",
    "            # Find all elements with the class 'card grid my-1 py-1'\n",
    "            card_elements = soup.find_all(class_='card grid my-1 py-1')\n",
    "        \n",
    "            # Iterate through each element and search for key signatures\n",
    "        for card in card_elements:\n",
    "            # Search for key signature in the text of each card element\n",
    "            match = re.search(key_signature_pattern, card.get_text())\n",
    "            if match:\n",
    "                note = match.group(1)\n",
    "                accidental = match.group(2) or ''\n",
    "                scale_type = match.group(3)\n",
    "                \n",
    "                # Format the key signature\n",
    "                key_signature = f\"{note}{accidental.lower()}{'m' if scale_type == 'Minor' else ''}\"\n",
    "\n",
    "                if ('♭' in key_signature) or ('♯' in key_signature):\n",
    "                    key_signature=key_signature.replace('♭','b')\n",
    "                    key_signature=key_signature.replace('♯','#')\n",
    "                    \n",
    "                return key_signature\n",
    "            else:\n",
    "                print(\"No key signature found.\")\n",
    "        \n",
    "        else:\n",
    "            print(f\"Failed to retrieve data. HTTP Status Code: {response.status_code}\")\n",
    "    except Exception as e:\n",
    "        print(f\"An error occurred: {e}\")\n",
    "# get_track_key"
   ]
  },
  {
   "cell_type": "code",
   "execution_count": 26,
   "id": "bd59cbb6-056e-4f82-8975-3fbb00873b9c",
   "metadata": {},
   "outputs": [
    {
     "data": {
      "text/plain": [
       "'Db'"
      ]
     },
     "execution_count": 26,
     "metadata": {},
     "output_type": "execute_result"
    }
   ],
   "source": [
    "get_track_key('09DR0sHnQUhHOiSNttc1mv')"
   ]
  },
  {
   "cell_type": "code",
   "execution_count": null,
   "id": "9d3f0329-2ead-4420-99aa-bb1c6d4bec03",
   "metadata": {},
   "outputs": [],
   "source": []
  }
 ],
 "metadata": {
  "kernelspec": {
   "display_name": "Python 3 (ipykernel)",
   "language": "python",
   "name": "python3"
  },
  "language_info": {
   "codemirror_mode": {
    "name": "ipython",
    "version": 3
   },
   "file_extension": ".py",
   "mimetype": "text/x-python",
   "name": "python",
   "nbconvert_exporter": "python",
   "pygments_lexer": "ipython3",
   "version": "3.9.6"
  }
 },
 "nbformat": 4,
 "nbformat_minor": 5
}
